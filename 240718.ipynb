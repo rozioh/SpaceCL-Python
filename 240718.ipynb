{
 "cells": [
  {
   "cell_type": "code",
   "execution_count": 1,
   "id": "e8a16bb0-a9a7-4463-816e-93dfe853bef6",
   "metadata": {},
   "outputs": [
    {
     "name": "stdout",
     "output_type": "stream",
     "text": [
      "3\n",
      "7\n"
     ]
    }
   ],
   "source": [
    "# 클래스\n",
    "\n",
    "result = 0\n",
    "\n",
    "def add(num):\n",
    "    global result\n",
    "    result += num\n",
    "    return result\n",
    "\n",
    "print(add(3))\n",
    "print(add(4))"
   ]
  },
  {
   "cell_type": "code",
   "execution_count": 2,
   "id": "699c2050-e425-499d-9ef5-b57f322978cb",
   "metadata": {},
   "outputs": [
    {
     "name": "stdout",
     "output_type": "stream",
     "text": [
      "3\n",
      "7\n",
      "3\n",
      "10\n"
     ]
    }
   ],
   "source": [
    "result1 = 0\n",
    "result2 = 0\n",
    "\n",
    "def add1(num):\n",
    "    global result1\n",
    "    result1 += num\n",
    "    return result1\n",
    "\n",
    "def add2(num):\n",
    "    global result2\n",
    "    result2 += num\n",
    "    return result2\n",
    "\n",
    "print(add1(3))\n",
    "print(add1(4))\n",
    "print(add2(3))\n",
    "print(add2(7))\n",
    "# 많이 계산이 필요해지면? -> 이제 클래스를 사용!"
   ]
  },
  {
   "cell_type": "code",
   "execution_count": 10,
   "id": "cd14e058-07ac-48da-9f1f-e12fc3b2085a",
   "metadata": {},
   "outputs": [
    {
     "name": "stdout",
     "output_type": "stream",
     "text": [
      "2741912136656\n",
      "2741913681456\n"
     ]
    },
    {
     "ename": "AttributeError",
     "evalue": "'Calculator' object has no attribute 'result'",
     "output_type": "error",
     "traceback": [
      "\u001b[1;31m---------------------------------------------------------------------------\u001b[0m",
      "\u001b[1;31mAttributeError\u001b[0m                            Traceback (most recent call last)",
      "Cell \u001b[1;32mIn[10], line 21\u001b[0m\n\u001b[0;32m     18\u001b[0m \u001b[38;5;28mprint\u001b[39m(\u001b[38;5;28mid\u001b[39m(cal2))\n\u001b[0;32m     20\u001b[0m \u001b[38;5;66;03m# 호출 방법\u001b[39;00m\n\u001b[1;32m---> 21\u001b[0m \u001b[38;5;28mprint\u001b[39m(\u001b[43mcal1\u001b[49m\u001b[38;5;241;43m.\u001b[39;49m\u001b[43madd\u001b[49m\u001b[43m(\u001b[49m\u001b[38;5;241;43m3\u001b[39;49m\u001b[43m)\u001b[49m)\n\u001b[0;32m     22\u001b[0m \u001b[38;5;66;03m#print(cal1.add(4))\u001b[39;00m\n",
      "Cell \u001b[1;32mIn[10], line 6\u001b[0m, in \u001b[0;36mCalculator.add\u001b[1;34m(self, num)\u001b[0m\n\u001b[0;32m      5\u001b[0m \u001b[38;5;28;01mdef\u001b[39;00m \u001b[38;5;21madd\u001b[39m(\u001b[38;5;28mself\u001b[39m, num):\n\u001b[1;32m----> 6\u001b[0m     \u001b[38;5;28;43mself\u001b[39;49m\u001b[38;5;241;43m.\u001b[39;49m\u001b[43mresult\u001b[49m \u001b[38;5;241m+\u001b[39m\u001b[38;5;241m=\u001b[39m num\n\u001b[0;32m      7\u001b[0m     \u001b[38;5;28;01mreturn\u001b[39;00m \u001b[38;5;28mself\u001b[39m\u001b[38;5;241m.\u001b[39mresult\n",
      "\u001b[1;31mAttributeError\u001b[0m: 'Calculator' object has no attribute 'result'"
     ]
    }
   ],
   "source": [
    "class Calculator:\n",
    "    def _init_(self):\n",
    "        self.result = 0\n",
    "\n",
    "    def add(self, num):\n",
    "        self.result += num\n",
    "        return self.result\n",
    "\n",
    "    def sub(self, num):\n",
    "        self.result -= num\n",
    "        return self.result\n",
    "\n",
    "cal1 = Calculator()\n",
    "cal2 = Calculator()\n",
    "\n",
    "# cal1과 cal2는 서로 다른 객체이다.\n",
    "print(id(cal1))\n",
    "print(id(cal2))\n",
    "\n",
    "# 호출 방법\n",
    "print(cal1.add(3)) # 어떻게 하는거지??\n",
    "#print(cal1.add(4))\n"
   ]
  },
  {
   "cell_type": "code",
   "execution_count": 37,
   "id": "89b1565a-1c3f-405b-8559-64f85750ee49",
   "metadata": {},
   "outputs": [
    {
     "data": {
      "text/plain": [
       "0.375"
      ]
     },
     "execution_count": 37,
     "metadata": {},
     "output_type": "execute_result"
    }
   ],
   "source": [
    "class Calculator:\n",
    "    # 생성자. 파이썬에서 인식하기 위해서 __init__으로 만들어둔다.\n",
    "    def __init__(self, first, second):\n",
    "        self.first = first\n",
    "        self.second = second\n",
    "        \n",
    "    def setData(self, first, second): \n",
    "        self.first = first\n",
    "        self.second = second\n",
    "        \n",
    "    def add(self):\n",
    "        return self.first + self.second\n",
    "\n",
    "    def sub(self):\n",
    "        return self.first - self.second\n",
    "\n",
    "    def mul(self):\n",
    "        return self.first * self.second\n",
    "\n",
    "    def div(self):\n",
    "        return self.first / self.second\n",
    "        \n",
    "a = Calculator()\n",
    "b = Calculator()\n",
    "\n",
    "type(a) # 객체 a의 타입 = __main__.Calculator\n",
    "\n",
    "a.setData(4, 2)\n",
    "b.setData(3, 8)\n",
    "\n",
    "a.add() # 6\n",
    "a.sub() # 2\n",
    "a.mul() # 8\n",
    "a.div() # 2.0\n",
    "\n",
    "b.add() # 11\n",
    "b.sub() # -5\n",
    "b.mul() # 24\n",
    "b.div() # 0.375"
   ]
  },
  {
   "cell_type": "code",
   "execution_count": null,
   "id": "5f8bafb7-6d3b-4451-be15-360200041031",
   "metadata": {},
   "outputs": [],
   "source": [
    "class Calculator:      \n",
    "    def setData(self, first, second): \n",
    "        self.first = first\n",
    "        self.second = second\n",
    "        \n",
    "    def add(self):\n",
    "        return self.first + self.second\n",
    "\n",
    "    def sub(self):\n",
    "        return self.first - self.second\n",
    "\n",
    "    def mul(self):\n",
    "        return self.first * self.second\n",
    "\n",
    "    def div(self):\n",
    "        return self.first / self.second\n",
    "        \n",
    "a = Calculator()\n",
    "b = Calculator()\n",
    "\n",
    "type(a) # 객체 a의 타입 = __main__.Calculator\n",
    "\n",
    "a.setData(4, 2)\n",
    "b.setData(3, 8)\n",
    "\n",
    "a.add() # 6\n",
    "a.sub() # 2\n",
    "a.mul() # 8\n",
    "a.div() # 2.0\n",
    "\n",
    "b.add() # 11\n",
    "b.sub() # -5\n",
    "b.mul() # 24\n",
    "b.div() # 0.375"
   ]
  },
  {
   "cell_type": "code",
   "execution_count": 42,
   "id": "abb97fca-8407-458b-a042-f9f36f5c5374",
   "metadata": {},
   "outputs": [
    {
     "name": "stdout",
     "output_type": "stream",
     "text": [
      "6\n"
     ]
    }
   ],
   "source": [
    "class Calculator:\n",
    "    # 생성자. 파이썬에서 인식하기 위해서 __init__으로 만들어둔다.\n",
    "    def __init__(self, first, second):\n",
    "        self.first = first\n",
    "        self.second = second\n",
    "        \n",
    "    def setData(self, first, second): \n",
    "        self.first = first\n",
    "        self.second = second\n",
    "        \n",
    "    def add(self):\n",
    "        return self.first + self.second\n",
    "\n",
    "    def sub(self):\n",
    "        return self.first - self.second\n",
    "\n",
    "    def mul(self):\n",
    "        return self.first * self.second\n",
    "\n",
    "    def div(self):\n",
    "        return self.first / self.second\n",
    "\n",
    "#a = Calculator()\n",
    "a = Calculator(4, 2)\n",
    "print(a.add())"
   ]
  },
  {
   "cell_type": "code",
   "execution_count": 53,
   "id": "79f1a5f9-e758-4030-b6a4-04e258d773b7",
   "metadata": {},
   "outputs": [
    {
     "name": "stdout",
     "output_type": "stream",
     "text": [
      "4\n",
      "4\n",
      "0\n",
      "0\n",
      "1\n"
     ]
    }
   ],
   "source": [
    "class MoreCalculator(Calculator):\n",
    "    # 기능 추가\n",
    "    def pow(self):\n",
    "        return self.first ** self.second\n",
    "\n",
    "    # 재정의\n",
    "    def div(self):\n",
    "        if self.second == 0:\n",
    "            return 0\n",
    "        else :\n",
    "            return self.first / self.second\n",
    "            \n",
    "a = MoreCalculator(4, 0)\n",
    "\n",
    "print(a.add())\n",
    "print(a.sub())\n",
    "print(a.mul())\n",
    "print(a.div())\n",
    "print(a.pow())"
   ]
  },
  {
   "cell_type": "code",
   "execution_count": 72,
   "id": "76201831-9dd2-4109-b460-f0fd28d38b5f",
   "metadata": {},
   "outputs": [
    {
     "name": "stdout",
     "output_type": "stream",
     "text": [
      "kim\n",
      "kim\n"
     ]
    }
   ],
   "source": [
    "class Family:\n",
    "    lastName = \"kim\"\n",
    "\n",
    "Family.lastName\n",
    "\n",
    "a = Family()\n",
    "b = Family()\n",
    "\n",
    "print(a.lastName)\n",
    "print(b.lastName)"
   ]
  },
  {
   "cell_type": "code",
   "execution_count": 73,
   "id": "e8589ad9-8b57-4a21-a575-3ab65bbc1b9f",
   "metadata": {},
   "outputs": [
    {
     "name": "stdout",
     "output_type": "stream",
     "text": [
      "park\n",
      "park\n"
     ]
    }
   ],
   "source": [
    "Family.lastName = \"park\" # 클래스 이름으로 변경하면 변경된다.\n",
    "print(a.lastName)\n",
    "print(b.lastName)"
   ]
  },
  {
   "cell_type": "code",
   "execution_count": 74,
   "id": "0120676b-8c36-48f3-af86-9bb8f5bfb91a",
   "metadata": {},
   "outputs": [
    {
     "name": "stdout",
     "output_type": "stream",
     "text": [
      "choi\n",
      "park\n",
      "park\n"
     ]
    }
   ],
   "source": [
    "a.lastName = \"choi\" # 클래스 이름과 같지만 지역변수로 선언된다. 현업에서는 이름을 같게 쓰진 않을 것이다.\n",
    "print(a.lastName)\n",
    "print(b.lastName)\n",
    "print(Family.lastName) # 변경되지 않았다. 싱글톤"
   ]
  },
  {
   "cell_type": "code",
   "execution_count": 77,
   "id": "e8de47c0-d56e-4c17-9484-24a42cc817d5",
   "metadata": {},
   "outputs": [
    {
     "name": "stdout",
     "output_type": "stream",
     "text": [
      "7\n",
      "7\n"
     ]
    }
   ],
   "source": [
    "import mod\n",
    "print(mod.add(3, 4)) # mod에서 add 접근\n",
    "\n",
    "#from mod import *\n",
    "from mod import add # mod의 add를 import\n",
    "print(add(3, 4))\n"
   ]
  },
  {
   "cell_type": "code",
   "execution_count": 80,
   "id": "51e33a7c-ea59-496c-8044-bab93b3935fc",
   "metadata": {},
   "outputs": [
    {
     "data": {
      "text/plain": [
       "'mod'"
      ]
     },
     "execution_count": 80,
     "metadata": {},
     "output_type": "execute_result"
    }
   ],
   "source": [
    "import mod\n",
    "\n",
    "mod.__name__"
   ]
  },
  {
   "cell_type": "code",
   "execution_count": 83,
   "id": "9d36552c-4434-47a7-ab1f-613a67f40d8a",
   "metadata": {},
   "outputs": [
    {
     "data": {
      "text/plain": [
       "['C:\\\\Users\\\\kosmo\\\\AppData\\\\Local\\\\Programs\\\\Python\\\\Python312\\\\python312.zip',\n",
       " 'C:\\\\Users\\\\kosmo\\\\AppData\\\\Local\\\\Programs\\\\Python\\\\Python312\\\\DLLs',\n",
       " 'C:\\\\Users\\\\kosmo\\\\AppData\\\\Local\\\\Programs\\\\Python\\\\Python312\\\\Lib',\n",
       " 'C:\\\\Users\\\\kosmo\\\\AppData\\\\Local\\\\Programs\\\\Python\\\\Python312',\n",
       " '',\n",
       " 'C:\\\\Users\\\\kosmo\\\\AppData\\\\Local\\\\Programs\\\\Python\\\\Python312\\\\Lib\\\\site-packages',\n",
       " 'C:\\\\Users\\\\kosmo\\\\AppData\\\\Local\\\\Programs\\\\Python\\\\Python312\\\\Lib\\\\site-packages\\\\win32',\n",
       " 'C:\\\\Users\\\\kosmo\\\\AppData\\\\Local\\\\Programs\\\\Python\\\\Python312\\\\Lib\\\\site-packages\\\\win32\\\\lib',\n",
       " 'C:\\\\Users\\\\kosmo\\\\AppData\\\\Local\\\\Programs\\\\Python\\\\Python312\\\\Lib\\\\site-packages\\\\Pythonwin']"
      ]
     },
     "execution_count": 83,
     "metadata": {},
     "output_type": "execute_result"
    }
   ],
   "source": [
    "import sys\n",
    "sys.path"
   ]
  },
  {
   "cell_type": "code",
   "execution_count": 92,
   "id": "84311e3e-daff-4d01-b316-90e45da04088",
   "metadata": {},
   "outputs": [],
   "source": [
    "import sys\n",
    "sys.path.append(\"C:\\\\jupyter\\\\notebook\") #어.. 지우는 방법은요....?!"
   ]
  },
  {
   "cell_type": "code",
   "execution_count": 93,
   "id": "e4af4a1c-afbe-4b00-909e-4ec476dc17b2",
   "metadata": {},
   "outputs": [
    {
     "data": {
      "text/plain": [
       "['C:\\\\Users\\\\kosmo\\\\AppData\\\\Local\\\\Programs\\\\Python\\\\Python312\\\\python312.zip',\n",
       " 'C:\\\\Users\\\\kosmo\\\\AppData\\\\Local\\\\Programs\\\\Python\\\\Python312\\\\DLLs',\n",
       " 'C:\\\\Users\\\\kosmo\\\\AppData\\\\Local\\\\Programs\\\\Python\\\\Python312\\\\Lib',\n",
       " 'C:\\\\Users\\\\kosmo\\\\AppData\\\\Local\\\\Programs\\\\Python\\\\Python312',\n",
       " '',\n",
       " 'C:\\\\Users\\\\kosmo\\\\AppData\\\\Local\\\\Programs\\\\Python\\\\Python312\\\\Lib\\\\site-packages',\n",
       " 'C:\\\\Users\\\\kosmo\\\\AppData\\\\Local\\\\Programs\\\\Python\\\\Python312\\\\Lib\\\\site-packages\\\\win32',\n",
       " 'C:\\\\Users\\\\kosmo\\\\AppData\\\\Local\\\\Programs\\\\Python\\\\Python312\\\\Lib\\\\site-packages\\\\win32\\\\lib',\n",
       " 'C:\\\\Users\\\\kosmo\\\\AppData\\\\Local\\\\Programs\\\\Python\\\\Python312\\\\Lib\\\\site-packages\\\\Pythonwin',\n",
       " 'C:\\\\jupyter\\\\notebook']"
      ]
     },
     "execution_count": 93,
     "metadata": {},
     "output_type": "execute_result"
    }
   ],
   "source": [
    "import sys\n",
    "sys.path"
   ]
  },
  {
   "cell_type": "code",
   "execution_count": 90,
   "id": "3b61950f-6ac3-4962-ae54-f946727f3467",
   "metadata": {},
   "outputs": [
    {
     "data": {
      "text/plain": [
       "'c:/jupyter/notebook'"
      ]
     },
     "execution_count": 90,
     "metadata": {},
     "output_type": "execute_result"
    }
   ],
   "source": [
    "sys.path.pop()"
   ]
  },
  {
   "cell_type": "code",
   "execution_count": 94,
   "id": "03847d52-e78a-411f-a9e1-302537e051ef",
   "metadata": {},
   "outputs": [
    {
     "name": "stdout",
     "output_type": "stream",
     "text": [
      "division by zero\n"
     ]
    }
   ],
   "source": [
    "# 예외처리\n",
    "try:\n",
    "    4/0\n",
    "except ZeroDivisionError as e:\n",
    "    print(e)"
   ]
  },
  {
   "cell_type": "code",
   "execution_count": 95,
   "id": "931edb76-9df1-41a0-a844-6ad6f9da1955",
   "metadata": {},
   "outputs": [
    {
     "name": "stdout",
     "output_type": "stream",
     "text": [
      "4\n",
      "4\n",
      "0\n",
      "division by zero\n",
      "0\n",
      "1\n"
     ]
    }
   ],
   "source": [
    "class MoreCalculator(Calculator):\n",
    "    # 기능 추가\n",
    "    def pow(self):\n",
    "        return self.first ** self.second\n",
    "\n",
    "    # 재정의\n",
    "    def div(self):\n",
    "        # 예외처리\n",
    "        try:\n",
    "            return self.first / self.second\n",
    "        except ZeroDivisionError as e:\n",
    "            print(e)\n",
    "            return 0\n",
    "            \n",
    "a = MoreCalculator(4, 0)\n",
    "\n",
    "print(a.add())\n",
    "print(a.sub())\n",
    "print(a.mul())\n",
    "print(a.div())\n",
    "print(a.pow())"
   ]
  },
  {
   "cell_type": "code",
   "execution_count": 100,
   "id": "59c1ab5e-bc35-4003-80ad-ae6f17d80217",
   "metadata": {},
   "outputs": [
    {
     "ename": "IndentationError",
     "evalue": "expected an indented block after 'else' statement on line 11 (1336737206.py, line 13)",
     "output_type": "error",
     "traceback": [
      "\u001b[1;36m  Cell \u001b[1;32mIn[100], line 13\u001b[1;36m\u001b[0m\n\u001b[1;33m    finally:\u001b[0m\n\u001b[1;37m    ^\u001b[0m\n\u001b[1;31mIndentationError\u001b[0m\u001b[1;31m:\u001b[0m expected an indented block after 'else' statement on line 11\n"
     ]
    }
   ],
   "source": [
    "try:\n",
    "    f = open()\n",
    "    []\n",
    "    4/0\n",
    "except ZeroDivisionError as e:\n",
    "    print(e)\n",
    "\n",
    "except IndexError as e:\n",
    "    print(e)\n",
    "\n",
    "else: \n",
    "    \n",
    "finally:\n",
    "    f.close()"
   ]
  },
  {
   "cell_type": "code",
   "execution_count": 106,
   "id": "177063cb-1954-490b-a2d7-99bfab5ccd5c",
   "metadata": {},
   "outputs": [
    {
     "name": "stdout",
     "output_type": "stream",
     "text": [
      "잘못 입력됨\n",
      "천사\n"
     ]
    }
   ],
   "source": [
    "class MyError(Exception):\n",
    "    def __str__\n",
    "\n",
    "def say_nick(nick):\n",
    "    if nick==\"바보\": # nick이 바보일 때 에러 발생\n",
    "        raise MyError()\n",
    "    print(nick)\n",
    "\n",
    "try:\n",
    "    say_nick(\"바보\")    \n",
    "except MyError:\n",
    "    print(e)"
   ]
  },
  {
   "cell_type": "code",
   "execution_count": null,
   "id": "51c9bdf3-2f58-4d13-9de0-75347364d19f",
   "metadata": {},
   "outputs": [],
   "source": []
  }
 ],
 "metadata": {
  "kernelspec": {
   "display_name": "Python 3 (ipykernel)",
   "language": "python",
   "name": "python3"
  },
  "language_info": {
   "codemirror_mode": {
    "name": "ipython",
    "version": 3
   },
   "file_extension": ".py",
   "mimetype": "text/x-python",
   "name": "python",
   "nbconvert_exporter": "python",
   "pygments_lexer": "ipython3",
   "version": "3.12.4"
  }
 },
 "nbformat": 4,
 "nbformat_minor": 5
}
