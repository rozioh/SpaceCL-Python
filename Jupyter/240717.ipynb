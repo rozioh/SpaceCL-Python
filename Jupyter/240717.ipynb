{
 "cells": [
  {
   "cell_type": "code",
   "execution_count": 1,
   "id": "8e8d8f4c-afff-4eb4-a4be-22f2c2bdc395",
   "metadata": {},
   "outputs": [
    {
     "data": {
      "text/plain": [
       "True"
      ]
     },
     "execution_count": 1,
     "metadata": {},
     "output_type": "execute_result"
    }
   ],
   "source": [
    "1 == 1 # bool 자료형"
   ]
  },
  {
   "cell_type": "code",
   "execution_count": 2,
   "id": "87eb183c-1a38-45a1-90a5-bb8ee6b41508",
   "metadata": {},
   "outputs": [
    {
     "data": {
      "text/plain": [
       "True"
      ]
     },
     "execution_count": 2,
     "metadata": {},
     "output_type": "execute_result"
    }
   ],
   "source": [
    "1 > 0 # 연산자와 함께 사용하여 제어문에 사용한다."
   ]
  },
  {
   "cell_type": "code",
   "execution_count": 4,
   "id": "0a717351-6478-497a-98d2-3d74fb31faa3",
   "metadata": {},
   "outputs": [],
   "source": [
    "a = \"asdf\"\n",
    "b = 1123 # 변수"
   ]
  },
  {
   "cell_type": "code",
   "execution_count": 5,
   "id": "afbf135f-5ab8-487b-ab4f-0eb86268d5f2",
   "metadata": {},
   "outputs": [
    {
     "data": {
      "text/plain": [
       "2206883900384"
      ]
     },
     "execution_count": 5,
     "metadata": {},
     "output_type": "execute_result"
    }
   ],
   "source": [
    "id(a) #메모리 주소"
   ]
  },
  {
   "cell_type": "code",
   "execution_count": 6,
   "id": "229c2e90-f948-4e1e-9c5f-19fa74baf7ce",
   "metadata": {},
   "outputs": [
    {
     "name": "stdout",
     "output_type": "stream",
     "text": [
      "[1, 2, 3]\n"
     ]
    }
   ],
   "source": [
    "a = [1, 2, 3]\n",
    "print(a)"
   ]
  },
  {
   "cell_type": "code",
   "execution_count": 10,
   "id": "4f67a980-95dc-4620-9e74-25590a57f723",
   "metadata": {},
   "outputs": [
    {
     "name": "stdout",
     "output_type": "stream",
     "text": [
      "[1, 4, 3]\n",
      "[1, 4, 3]\n"
     ]
    }
   ],
   "source": [
    "b = a  # 주소값이 복사가 된다.\n",
    "print(b)\n",
    "a[1] = 4\n",
    "print(a)"
   ]
  },
  {
   "cell_type": "code",
   "execution_count": 12,
   "id": "6f924a6b-643f-4699-99f9-75bdad98d873",
   "metadata": {},
   "outputs": [
    {
     "name": "stdout",
     "output_type": "stream",
     "text": [
      "[1, 4, 3]\n"
     ]
    }
   ],
   "source": [
    "print(b)"
   ]
  },
  {
   "cell_type": "code",
   "execution_count": 11,
   "id": "51d81b71-cb75-484e-8400-56f821c3af4d",
   "metadata": {},
   "outputs": [
    {
     "name": "stdout",
     "output_type": "stream",
     "text": [
      "2206894471040\n",
      "2206884037696\n"
     ]
    }
   ],
   "source": [
    "print(id(a))\n",
    "print(id(b))"
   ]
  },
  {
   "cell_type": "code",
   "execution_count": 16,
   "id": "0a238a9c-e0fa-4cd1-b6c5-2c11b637b2c4",
   "metadata": {},
   "outputs": [
    {
     "name": "stdout",
     "output_type": "stream",
     "text": [
      "2206792793328\n",
      "2206792793328\n"
     ]
    }
   ],
   "source": [
    "b = a[:] # 주소값 바뀜~~\n",
    "print(id(a))\n",
    "print(id(b))"
   ]
  },
  {
   "cell_type": "code",
   "execution_count": 14,
   "id": "eeb2c9e7-9132-41a2-8d41-995eca913d9f",
   "metadata": {},
   "outputs": [
    {
     "name": "stdout",
     "output_type": "stream",
     "text": [
      "python\n",
      "Life\n"
     ]
    }
   ],
   "source": [
    "a, b = ('python', 'Life')\n",
    "print(a)\n",
    "print(b)"
   ]
  },
  {
   "cell_type": "code",
   "execution_count": 17,
   "id": "59dcb252-eea9-4edf-95cb-262e61a2f5b9",
   "metadata": {},
   "outputs": [
    {
     "data": {
      "text/plain": [
       "True"
      ]
     },
     "execution_count": 17,
     "metadata": {},
     "output_type": "execute_result"
    }
   ],
   "source": [
    "a is b  # b = a 일 때 True, b = a[:] 일 땐 False"
   ]
  },
  {
   "cell_type": "code",
   "execution_count": 18,
   "id": "11adc495-4ea8-465b-80a3-f7ef82328166",
   "metadata": {},
   "outputs": [
    {
     "name": "stdout",
     "output_type": "stream",
     "text": [
      "true\n"
     ]
    }
   ],
   "source": [
    "money = True\n",
    "\n",
    "# if문\n",
    "if money : \n",
    "    print(\"true\")\n",
    "else :\n",
    "    print(\"false\")"
   ]
  },
  {
   "cell_type": "code",
   "execution_count": 19,
   "id": "e5081b26-a5dc-4f45-ac84-5c8bb9c6bdb4",
   "metadata": {},
   "outputs": [
    {
     "name": "stdout",
     "output_type": "stream",
     "text": [
      "걸어간다\n"
     ]
    }
   ],
   "source": [
    "money = 2000\n",
    "\n",
    "if money >= 3000 :\n",
    "    print(\"택시\")\n",
    "else :\n",
    "    print(\"걸어간다\")"
   ]
  },
  {
   "cell_type": "code",
   "execution_count": 20,
   "id": "63e66c30-a767-497a-b5aa-91945004a185",
   "metadata": {},
   "outputs": [
    {
     "data": {
      "text/plain": [
       "True"
      ]
     },
     "execution_count": 20,
     "metadata": {},
     "output_type": "execute_result"
    }
   ],
   "source": [
    "1 in [1, 2, 3] # 1이 있다"
   ]
  },
  {
   "cell_type": "code",
   "execution_count": 21,
   "id": "9675bef7-5573-4505-876d-6bc05aa04d0f",
   "metadata": {},
   "outputs": [
    {
     "data": {
      "text/plain": [
       "False"
      ]
     },
     "execution_count": 21,
     "metadata": {},
     "output_type": "execute_result"
    }
   ],
   "source": [
    "1 not in [1, 2, 3] # 1이 없다"
   ]
  },
  {
   "cell_type": "code",
   "execution_count": 23,
   "id": "954f2d73-312b-430b-9cc2-1224e1c8dfa1",
   "metadata": {},
   "outputs": [
    {
     "name": "stdout",
     "output_type": "stream",
     "text": [
      "돈\n"
     ]
    }
   ],
   "source": [
    "pocket = ['paper', 'cellphone', 'money']\n",
    "\n",
    "if 'money' in pocket : \n",
    "    print(\"돈\")\n",
    "elif 'cellphone' in pocket :  \n",
    "    print(\"핸드폰\")\n",
    "else : \n",
    "    print(\"종이\")"
   ]
  },
  {
   "cell_type": "code",
   "execution_count": 1,
   "id": "f81f4e5a-529f-4e38-9216-6dd4b66936db",
   "metadata": {},
   "outputs": [
    {
     "name": "stdout",
     "output_type": "stream",
     "text": [
      "나무를 1번 찍었습니다.\n",
      "나무를 2번 찍었습니다.\n",
      "나무를 3번 찍었습니다.\n",
      "나무를 4번 찍었습니다.\n",
      "나무를 5번 찍었습니다.\n",
      "나무를 6번 찍었습니다.\n",
      "나무를 7번 찍었습니다.\n",
      "나무를 8번 찍었습니다.\n",
      "나무를 9번 찍었습니다.\n",
      "나무를 10번 찍었습니다.\n",
      "나무 넘어갑니다.\n"
     ]
    }
   ],
   "source": [
    "treeHit = 0\n",
    "while treeHit < 10 :\n",
    "    treeHit = treeHit + 1\n",
    "    print(\"나무를 %d번 찍었습니다.\" % treeHit)\n",
    "    if treeHit == 10 : \n",
    "        print(\"나무 넘어갑니다.\")"
   ]
  },
  {
   "cell_type": "code",
   "execution_count": 2,
   "id": "be674d91-31ab-4f8e-942b-af71f8ca7d8e",
   "metadata": {},
   "outputs": [],
   "source": [
    "prompt = \"\"\"\n",
    "    1. Add\n",
    "    2. Del\n",
    "    3. List\n",
    "    4. Quit\n",
    "\n",
    "    Enter number: \"\"\""
   ]
  },
  {
   "cell_type": "code",
   "execution_count": 4,
   "id": "ed8b9e8f-9f8b-4b13-92df-e8d49463a6d7",
   "metadata": {},
   "outputs": [
    {
     "name": "stdout",
     "output_type": "stream",
     "text": [
      "\n",
      "    1. Add\n",
      "    2. Del\n",
      "    3. List\n",
      "    4. Quit\n",
      "\n",
      "    Enter number: \n"
     ]
    },
    {
     "name": "stdin",
     "output_type": "stream",
     "text": [
      " 1\n"
     ]
    },
    {
     "name": "stdout",
     "output_type": "stream",
     "text": [
      "\n",
      "    1. Add\n",
      "    2. Del\n",
      "    3. List\n",
      "    4. Quit\n",
      "\n",
      "    Enter number: \n"
     ]
    },
    {
     "name": "stdin",
     "output_type": "stream",
     "text": [
      " 3\n"
     ]
    },
    {
     "name": "stdout",
     "output_type": "stream",
     "text": [
      "\n",
      "    1. Add\n",
      "    2. Del\n",
      "    3. List\n",
      "    4. Quit\n",
      "\n",
      "    Enter number: \n"
     ]
    },
    {
     "name": "stdin",
     "output_type": "stream",
     "text": [
      " 2\n"
     ]
    },
    {
     "name": "stdout",
     "output_type": "stream",
     "text": [
      "\n",
      "    1. Add\n",
      "    2. Del\n",
      "    3. List\n",
      "    4. Quit\n",
      "\n",
      "    Enter number: \n"
     ]
    },
    {
     "name": "stdin",
     "output_type": "stream",
     "text": [
      " 4\n"
     ]
    }
   ],
   "source": [
    "number = 0\n",
    "while number != 4:\n",
    "    print(prompt)\n",
    "    number = int(input())"
   ]
  },
  {
   "cell_type": "code",
   "execution_count": null,
   "id": "891cf2b2-29e3-4496-bbd0-958247c252f0",
   "metadata": {},
   "outputs": [],
   "source": [
    "# for문의 기본 형태\n",
    "for 변수 in 반복객체 : \n",
    "    수행문"
   ]
  },
  {
   "cell_type": "code",
   "execution_count": 5,
   "id": "0a123fd3-cc32-481a-8df7-bdcd31860ade",
   "metadata": {},
   "outputs": [
    {
     "name": "stdout",
     "output_type": "stream",
     "text": [
      "one\n",
      "two\n",
      "three\n"
     ]
    }
   ],
   "source": [
    "test_list = ['one', 'two', 'three']\n",
    "for i in test_list:\n",
    "    print(i)"
   ]
  },
  {
   "cell_type": "code",
   "execution_count": 10,
   "id": "a0c15ce0-3980-4d96-9b8c-8dfbbc654b76",
   "metadata": {},
   "outputs": [
    {
     "name": "stdout",
     "output_type": "stream",
     "text": [
      "3\n",
      "7\n",
      "11\n"
     ]
    }
   ],
   "source": [
    "a = [(1, 2), (3, 4), (5, 6)]\n",
    "for (first, last) in a:\n",
    "    print(first + last)"
   ]
  },
  {
   "cell_type": "code",
   "execution_count": 12,
   "id": "a09b45a0-744e-4419-8ba5-153358b59cc2",
   "metadata": {},
   "outputs": [
    {
     "name": "stdout",
     "output_type": "stream",
     "text": [
      "1번 학생은 합격입니다.\n",
      "2번 학생은 불합격입니다.\n",
      "3번 학생은 합격입니다.\n",
      "4번 학생은 불합격입니다.\n",
      "5번 학생은 합격입니다.\n"
     ]
    }
   ],
   "source": [
    "marks = [90, 25, 67, 45, 80]\n",
    "\n",
    "number = 0\n",
    "for mark in marks:\n",
    "    number = number + 1\n",
    "    if mark >= 60:\n",
    "        print(\"%d번 학생은 합격입니다.\" % number)\n",
    "    else :\n",
    "        print(\"%d번 학생은 불합격입니다.\" % number)"
   ]
  },
  {
   "cell_type": "code",
   "execution_count": 13,
   "id": "05d11b58-b08b-4a78-b974-62a0e5989b19",
   "metadata": {},
   "outputs": [
    {
     "name": "stdout",
     "output_type": "stream",
     "text": [
      "1번 학생 축하합니다. 합격입니다. \n",
      "3번 학생 축하합니다. 합격입니다. \n",
      "5번 학생 축하합니다. 합격입니다. \n"
     ]
    }
   ],
   "source": [
    "marks = [90, 25, 67, 45, 80]\n",
    "\n",
    "number = 0\n",
    "for mark in marks:\n",
    "    number = number + 1\n",
    "    if mark < 60:\n",
    "        continue\n",
    "    print(\"%d번 학생 축하합니다. 합격입니다. \" % number)"
   ]
  },
  {
   "cell_type": "code",
   "execution_count": 14,
   "id": "a09b9708-16df-4940-9ab3-d176407bea24",
   "metadata": {},
   "outputs": [
    {
     "name": "stdout",
     "output_type": "stream",
     "text": [
      "55\n"
     ]
    }
   ],
   "source": [
    "add = 0\n",
    "for i in range(1, 11): # 마지막 수는 포함되지 않는다.\n",
    "    add = add + i\n",
    "\n",
    "print(add)"
   ]
  },
  {
   "cell_type": "code",
   "execution_count": 22,
   "id": "51781d38-7ff8-4d26-8c9c-88d235e5cea4",
   "metadata": {},
   "outputs": [
    {
     "name": "stdout",
     "output_type": "stream",
     "text": [
      "2 4 6 8 10 12 14 16 18  \n",
      "3 6 9 12 15 18 21 24 27  \n",
      "4 8 12 16 20 24 28 32 36  \n",
      "5 10 15 20 25 30 35 40 45  \n",
      "6 12 18 24 30 36 42 48 54  \n",
      "7 14 21 28 35 42 49 56 63  \n",
      "8 16 24 32 40 48 56 64 72  \n",
      "9 18 27 36 45 54 63 72 81  \n"
     ]
    }
   ],
   "source": [
    "for i in range(2, 10):\n",
    "    for j in range(1, 10):\n",
    "        print(i*j, end=\" \")\n",
    "        # print(\"%d * %d = %d\" % (i, j, i*j) , end=\"\\n\")\n",
    "    print(' ')"
   ]
  },
  {
   "cell_type": "code",
   "execution_count": null,
   "id": "01083c67-5e43-42a3-afbc-ecefc202eaaf",
   "metadata": {},
   "outputs": [],
   "source": [
    "# 파이썬 함수의 구조\n",
    "def 함수이름(매개변수):\n",
    "    수행할 문장\n",
    "    return"
   ]
  },
  {
   "cell_type": "code",
   "execution_count": 24,
   "id": "e92b9bfe-c1b1-4285-a95f-687c5bbb3f45",
   "metadata": {},
   "outputs": [
    {
     "name": "stdout",
     "output_type": "stream",
     "text": [
      "7\n"
     ]
    }
   ],
   "source": [
    "def add(aa, bb) :\n",
    "    return aa + bb\n",
    "\n",
    "a = 3\n",
    "b = 4\n",
    "c = add(a, b)\n",
    "# c = add(a=3, a=4) 이러한 형식도 가능하다.\n",
    "print(c)"
   ]
  },
  {
   "cell_type": "code",
   "execution_count": null,
   "id": "d6ae0171-a16c-4fbb-8d18-97ba6dcf02c0",
   "metadata": {},
   "outputs": [],
   "source": [
    "# 매개변수X 반환형X\n",
    "def asdf():\n",
    "    print(\"function call\")\n",
    "\n",
    "# 매개변수O 반환형X\n",
    "def asdf(a):\n",
    "    print(a)\n",
    "\n",
    "# 매개변수X 반환형O\n",
    "def asdf():\n",
    "    a = 3\n",
    "    b = 4\n",
    "    return a + 4\n",
    "\n",
    "# 매개변수O 반환형O\n",
    "def asdf (a, b):\n",
    "    return a + b"
   ]
  },
  {
   "cell_type": "code",
   "execution_count": 30,
   "id": "bede3cb2-9c34-4515-a2f8-9a8547a5d70c",
   "metadata": {},
   "outputs": [
    {
     "name": "stdout",
     "output_type": "stream",
     "text": [
      "10\n"
     ]
    }
   ],
   "source": [
    "# 가변 매개변수\n",
    "def add_many(*args):\n",
    "    result = 0\n",
    "\n",
    "    for i in args:\n",
    "        result = result + i\n",
    "\n",
    "    return result\n",
    "\n",
    "result = add_many(1, 2, 3, 4)\n",
    "print(result)"
   ]
  },
  {
   "cell_type": "code",
   "execution_count": null,
   "id": "c2cfdbe0-c0c0-48bf-b3a3-501c938dd0c1",
   "metadata": {},
   "outputs": [],
   "source": [
    "# print 하는 함수 만들기 숙제\n",
    "def tempPrint(*args):\n",
    "    for i in args\n",
    "\n"
   ]
  },
  {
   "cell_type": "code",
   "execution_count": 31,
   "id": "48e17e4b-9f69-49da-90dd-aa485aaf4136",
   "metadata": {},
   "outputs": [
    {
     "name": "stdout",
     "output_type": "stream",
     "text": [
      "data\n",
      "1\n",
      "3\n"
     ]
    }
   ],
   "source": [
    "def add_many(data1, temp, *args):  # 가변인자를 쓸때는 항상 가변인자를 뒤에 써야한다.\n",
    "    print(data1)\n",
    "    result = 0\n",
    "\n",
    "    for i in args:\n",
    "        result = result + 1\n",
    "    print(temp)\n",
    "\n",
    "    return result\n",
    "\n",
    "result = add_many(\"data\", 1, 2, 3, 4)\n",
    "print(result)"
   ]
  },
  {
   "cell_type": "code",
   "execution_count": 35,
   "id": "b2507e23-8700-4987-8484-fad5ee569737",
   "metadata": {},
   "outputs": [
    {
     "name": "stdout",
     "output_type": "stream",
     "text": [
      "data\n"
     ]
    },
    {
     "ename": "NameError",
     "evalue": "name 'temp' is not defined",
     "output_type": "error",
     "traceback": [
      "\u001b[1;31m---------------------------------------------------------------------------\u001b[0m",
      "\u001b[1;31mNameError\u001b[0m                                 Traceback (most recent call last)",
      "Cell \u001b[1;32mIn[35], line 4\u001b[0m\n\u001b[0;32m      2\u001b[0m     \u001b[38;5;28mprint\u001b[39m(data1)\n\u001b[0;32m      3\u001b[0m     \u001b[38;5;28mprint\u001b[39m(temp)\n\u001b[1;32m----> 4\u001b[0m \u001b[43madd_many\u001b[49m\u001b[43m(\u001b[49m\u001b[38;5;124;43m\"\u001b[39;49m\u001b[38;5;124;43mdata\u001b[39;49m\u001b[38;5;124;43m\"\u001b[39;49m\u001b[43m,\u001b[49m\u001b[43m \u001b[49m\u001b[38;5;124;43m\"\u001b[39;49m\u001b[38;5;124;43mtemp\u001b[39;49m\u001b[38;5;124;43m\"\u001b[39;49m\u001b[43m)\u001b[49m\n",
      "Cell \u001b[1;32mIn[35], line 3\u001b[0m, in \u001b[0;36madd_many\u001b[1;34m(data1, temp3)\u001b[0m\n\u001b[0;32m      1\u001b[0m \u001b[38;5;28;01mdef\u001b[39;00m \u001b[38;5;21madd_many\u001b[39m(data1, temp3):\n\u001b[0;32m      2\u001b[0m     \u001b[38;5;28mprint\u001b[39m(data1)\n\u001b[1;32m----> 3\u001b[0m     \u001b[38;5;28mprint\u001b[39m(\u001b[43mtemp\u001b[49m)\n",
      "\u001b[1;31mNameError\u001b[0m: name 'temp' is not defined"
     ]
    }
   ],
   "source": [
    "def add_many(data1, temp3):\n",
    "    print(data1)\n",
    "    print(temp)\n",
    "    \n",
    "add_many(\"data\", \"temp\")"
   ]
  },
  {
   "cell_type": "code",
   "execution_count": 39,
   "id": "dbbece5b-87bf-450d-b2f6-1cabd29b9174",
   "metadata": {},
   "outputs": [
    {
     "name": "stdout",
     "output_type": "stream",
     "text": [
      "1\n"
     ]
    }
   ],
   "source": [
    "a = 1\n",
    "def vartest(a):\n",
    "    a = a + 1 # 위의 변수 a와 다른 변수이다.\n",
    "\n",
    "vartest(a)\n",
    "print(a)  # 1"
   ]
  },
  {
   "cell_type": "code",
   "execution_count": 40,
   "id": "fec63c4a-d08f-493e-87ec-f3e1a72f22c9",
   "metadata": {},
   "outputs": [
    {
     "name": "stdout",
     "output_type": "stream",
     "text": [
      "2\n"
     ]
    }
   ],
   "source": [
    "a = 1\n",
    "def vartest(a):\n",
    "    return a + 1\n",
    "\n",
    "a = vartest(a)\n",
    "print(a)  # 2"
   ]
  },
  {
   "cell_type": "code",
   "execution_count": 41,
   "id": "e786ed1a-0d72-4e2f-8f0c-713ca4ef64a3",
   "metadata": {},
   "outputs": [
    {
     "ename": "SyntaxError",
     "evalue": "name 'a' is parameter and global (835332315.py, line 3)",
     "output_type": "error",
     "traceback": [
      "\u001b[1;36m  Cell \u001b[1;32mIn[41], line 3\u001b[1;36m\u001b[0m\n\u001b[1;33m    global a\u001b[0m\n\u001b[1;37m    ^\u001b[0m\n\u001b[1;31mSyntaxError\u001b[0m\u001b[1;31m:\u001b[0m name 'a' is parameter and global\n"
     ]
    }
   ],
   "source": [
    "a = 1\n",
    "def vartest(a):\n",
    "    global a # 지양한다. 스파게티 코드\n",
    "    a = a + 1"
   ]
  },
  {
   "cell_type": "code",
   "execution_count": 43,
   "id": "96d5f47a-e3d6-4d89-a234-e9bd873a70ce",
   "metadata": {},
   "outputs": [
    {
     "name": "stdout",
     "output_type": "stream",
     "text": [
      "7\n"
     ]
    }
   ],
   "source": [
    "add = lambda a, b : a + b # 한 줄로 간결.  add 자체가 함수\n",
    "result = add(3, 4)\n",
    "print(result)"
   ]
  },
  {
   "cell_type": "code",
   "execution_count": 44,
   "id": "0f9105e7-6e3c-4b75-96d4-e7be81ba624b",
   "metadata": {},
   "outputs": [
    {
     "name": "stdin",
     "output_type": "stream",
     "text": [
      "숫자를 입력하세요:  3\n"
     ]
    }
   ],
   "source": [
    "number = input(\"숫자를 입력하세요: \" )"
   ]
  },
  {
   "cell_type": "code",
   "execution_count": 45,
   "id": "ea22b3ed-645f-49c1-92a5-e94df2198b9b",
   "metadata": {},
   "outputs": [
    {
     "name": "stdout",
     "output_type": "stream",
     "text": [
      "3\n"
     ]
    }
   ],
   "source": [
    "print(number)"
   ]
  },
  {
   "cell_type": "code",
   "execution_count": 49,
   "id": "dd9315b9-cc83-4099-b9db-ae98af9d6ec3",
   "metadata": {},
   "outputs": [],
   "source": [
    "f = open(\"C:\\\\jupyter\\\\notebook\\\\python.txt\", \"w\")\n",
    "for i in range(1, 11):\n",
    "    data = \"%d번째 줄입니다. \\n\" % i\n",
    "    f.write(data)\n",
    "f.close() # 소켓은 열었으면 항상 닫아줘야한다."
   ]
  },
  {
   "cell_type": "code",
   "execution_count": 55,
   "id": "c0178162-bc61-44f6-8d3f-a456e3483630",
   "metadata": {},
   "outputs": [
    {
     "name": "stdout",
     "output_type": "stream",
     "text": [
      "1번째 줄입니다. \n",
      "\n",
      "2번째 줄입니다. \n",
      "\n",
      "3번째 줄입니다. \n",
      "\n",
      "4번째 줄입니다. \n",
      "\n",
      "5번째 줄입니다. \n",
      "\n",
      "6번째 줄입니다. \n",
      "\n",
      "7번째 줄입니다. \n",
      "\n",
      "8번째 줄입니다. \n",
      "\n",
      "9번째 줄입니다. \n",
      "\n",
      "10번째 줄입니다. \n",
      "\n",
      "\n"
     ]
    }
   ],
   "source": [
    "f = open(\"C:\\\\jupyter\\\\notebook\\\\python.txt\", \"r\")\n",
    "line = f.readline() # 한 줄 출력\n",
    "print(line)\n",
    "\n",
    "while True: # 여러 줄 출력\n",
    "    line = f.readline()\n",
    "    if not line : break\n",
    "    print(line)\n",
    "f.close()"
   ]
  },
  {
   "cell_type": "code",
   "execution_count": null,
   "id": "a7c0b52c-8b04-47d5-bf76-06840233cdbc",
   "metadata": {},
   "outputs": [],
   "source": [
    "import sys\n",
    "\n",
    "python3 sys2.py aaa bbb ccc\n",
    "args = sys.argv[1:]\n",
    "#파이썬으로 저장이 안되기 때문에 지금 실행해 볼 수 없다."
   ]
  }
 ],
 "metadata": {
  "kernelspec": {
   "display_name": "Python 3 (ipykernel)",
   "language": "python",
   "name": "python3"
  },
  "language_info": {
   "codemirror_mode": {
    "name": "ipython",
    "version": 3
   },
   "file_extension": ".py",
   "mimetype": "text/x-python",
   "name": "python",
   "nbconvert_exporter": "python",
   "pygments_lexer": "ipython3",
   "version": "3.12.4"
  }
 },
 "nbformat": 4,
 "nbformat_minor": 5
}
