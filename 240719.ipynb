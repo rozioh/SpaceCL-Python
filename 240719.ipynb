{
 "cells": [
  {
   "cell_type": "code",
   "execution_count": null,
   "id": "56d2f375-afd4-4c48-9408-dedd012f02f9",
   "metadata": {},
   "outputs": [],
   "source": [
    "#우리는 인코딩 기본이 UTF-8이다.\n",
    "open(\"text.txt\",\"w\", encoding='utf-8')"
   ]
  },
  {
   "cell_type": "code",
   "execution_count": 2,
   "id": "21b53a13-018c-4522-9d7f-5ad89115eeec",
   "metadata": {},
   "outputs": [
    {
     "data": {
      "text/plain": [
       "6"
      ]
     },
     "execution_count": 2,
     "metadata": {},
     "output_type": "execute_result"
    }
   ],
   "source": [
    "def mul3(n):\n",
    "    return n * 3\n",
    "\n",
    "def mul5(n):\n",
    "    return n * 5"
   ]
  },
  {
   "cell_type": "code",
   "execution_count": 6,
   "id": "0404e550-fcca-4a23-87df-0a9134f42148",
   "metadata": {},
   "outputs": [
    {
     "data": {
      "text/plain": [
       "6"
      ]
     },
     "execution_count": 6,
     "metadata": {},
     "output_type": "execute_result"
    }
   ],
   "source": [
    "class Mul:\n",
    "    def __init__(self, m):\n",
    "        self.m = m # 몇의 배수인지 초기화에서 받아서 확인\n",
    "    def mul(self, n):\n",
    "        return self.m * n\n",
    "\n",
    "mul3 = Mul(3) # 3의 배수를 만드는 mul3을 생성\n",
    "mul5 = Mul(5) # 5의 배수를 만드는 mul5를 생성\n",
    "\n",
    "mul3.mul(2) # mul3에 2를 넣어서 계산"
   ]
  },
  {
   "cell_type": "code",
   "execution_count": 8,
   "id": "eb469322-ea8f-4128-9713-4470ea882a18",
   "metadata": {},
   "outputs": [
    {
     "name": "stdout",
     "output_type": "stream",
     "text": [
      "30\n",
      "50\n"
     ]
    }
   ],
   "source": [
    "class Mul:\n",
    "    def __init__(self, m):\n",
    "        self.m = m # 몇의 배수인지 초기화에서 받아서 확인\n",
    "\n",
    "    def __call__(self, n):\n",
    "        return self.m * n\n",
    "\n",
    "mul3 = Mul(3) # 3의 배수를 만드는 mul3을 생성\n",
    "mul5 = Mul(5) # 5의 배수를 만드는 mul5를 생성\n",
    "\n",
    "# call 함수를 사용\n",
    "print(mul3(10))\n",
    "print(mul5(10))"
   ]
  },
  {
   "cell_type": "code",
   "execution_count": 9,
   "id": "d1338bf9-a07d-4e9b-98f1-d7bf598f477a",
   "metadata": {},
   "outputs": [
    {
     "name": "stdout",
     "output_type": "stream",
     "text": [
      "30\n",
      "50\n"
     ]
    }
   ],
   "source": [
    "def mul(m):\n",
    "    def wrapper(n):\n",
    "        return m * n\n",
    "    return wrapper\n",
    "\n",
    "mul3 = mul(3)\n",
    "mul5 = mul(5)\n",
    "\n",
    "print(mul3(10))\n",
    "print(mul5(10))"
   ]
  },
  {
   "cell_type": "code",
   "execution_count": 28,
   "id": "24fdf340-9886-4001-89d1-ab82a47eabd0",
   "metadata": {},
   "outputs": [
    {
     "name": "stdout",
     "output_type": "stream",
     "text": [
      "myfunc 함수 실행\n",
      "함수 수행 시간 : 1.001368 초\n"
     ]
    }
   ],
   "source": [
    "import time \n",
    "\n",
    "def timecheck(origin_func):\n",
    "    def wrapper(*args, **kwargs):\n",
    "        start = time.time() #시작 시간\n",
    "        result = origin_func(*args, **kwargs)\n",
    "        end = time.time() #종료 시간\n",
    "        print(\"함수 수행 시간 : %f 초\" % (end - start))\n",
    "        return result\n",
    "    return wrapper\n",
    "\n",
    "@timecheck\n",
    "def myfunc(msg):\n",
    "    time.sleep(1)\n",
    "    \"\"\" 데코레이터 확인 함수 \"\"\"\n",
    "    print(\"%s 함수 실행\" % msg)\n",
    "\n",
    "#func_time = timecheck(myfunc)\n",
    "\n",
    "# func_time = def wrapper():\n",
    "#                 start = time.time() #시작 시간\n",
    "#                 result = origin_func()\n",
    "#                 end = time.time() #종료 시간\n",
    "#                 print(\"함수 수행 시간 : %f 초\" % (end - start))\n",
    "#             return result\n",
    "myfunc(\"myfunc\")"
   ]
  },
  {
   "cell_type": "code",
   "execution_count": 31,
   "id": "c8096a8c-3277-404a-be61-d937ab0a8e63",
   "metadata": {},
   "outputs": [
    {
     "data": {
      "text/plain": [
       "['__add__',\n",
       " '__class__',\n",
       " '__class_getitem__',\n",
       " '__contains__',\n",
       " '__delattr__',\n",
       " '__delitem__',\n",
       " '__dir__',\n",
       " '__doc__',\n",
       " '__eq__',\n",
       " '__format__',\n",
       " '__ge__',\n",
       " '__getattribute__',\n",
       " '__getitem__',\n",
       " '__getstate__',\n",
       " '__gt__',\n",
       " '__hash__',\n",
       " '__iadd__',\n",
       " '__imul__',\n",
       " '__init__',\n",
       " '__init_subclass__',\n",
       " '__iter__',\n",
       " '__le__',\n",
       " '__len__',\n",
       " '__lt__',\n",
       " '__mul__',\n",
       " '__ne__',\n",
       " '__new__',\n",
       " '__reduce__',\n",
       " '__reduce_ex__',\n",
       " '__repr__',\n",
       " '__reversed__',\n",
       " '__rmul__',\n",
       " '__setattr__',\n",
       " '__setitem__',\n",
       " '__sizeof__',\n",
       " '__str__',\n",
       " '__subclasshook__',\n",
       " 'append',\n",
       " 'clear',\n",
       " 'copy',\n",
       " 'count',\n",
       " 'extend',\n",
       " 'index',\n",
       " 'insert',\n",
       " 'pop',\n",
       " 'remove',\n",
       " 'reverse',\n",
       " 'sort']"
      ]
     },
     "execution_count": 31,
     "metadata": {},
     "output_type": "execute_result"
    }
   ],
   "source": [
    "dir([1, 3, 4])"
   ]
  },
  {
   "cell_type": "code",
   "execution_count": 32,
   "id": "6265093c-7bbe-4307-9aba-326a12ec1da7",
   "metadata": {},
   "outputs": [
    {
     "ename": "TypeError",
     "evalue": "'list' object is not an iterator",
     "output_type": "error",
     "traceback": [
      "\u001b[1;31m---------------------------------------------------------------------------\u001b[0m",
      "\u001b[1;31mTypeError\u001b[0m                                 Traceback (most recent call last)",
      "Cell \u001b[1;32mIn[32], line 3\u001b[0m\n\u001b[0;32m      1\u001b[0m a \u001b[38;5;241m=\u001b[39m [\u001b[38;5;241m1\u001b[39m, \u001b[38;5;241m2\u001b[39m, \u001b[38;5;241m3\u001b[39m]\n\u001b[1;32m----> 3\u001b[0m \u001b[38;5;28;43mnext\u001b[39;49m\u001b[43m(\u001b[49m\u001b[43ma\u001b[49m\u001b[43m)\u001b[49m\n",
      "\u001b[1;31mTypeError\u001b[0m: 'list' object is not an iterator"
     ]
    }
   ],
   "source": [
    "a = [1, 2, 3]\n",
    "\n",
    "next(a)"
   ]
  },
  {
   "cell_type": "code",
   "execution_count": 38,
   "id": "9f42aeb3-07c3-48ff-b869-9da17d12bbc2",
   "metadata": {},
   "outputs": [
    {
     "name": "stdout",
     "output_type": "stream",
     "text": [
      "1\n",
      "2\n",
      "3\n"
     ]
    },
    {
     "ename": "StopIteration",
     "evalue": "",
     "output_type": "error",
     "traceback": [
      "\u001b[1;31m---------------------------------------------------------------------------\u001b[0m",
      "\u001b[1;31mStopIteration\u001b[0m                             Traceback (most recent call last)",
      "Cell \u001b[1;32mIn[38], line 8\u001b[0m\n\u001b[0;32m      6\u001b[0m \u001b[38;5;28mprint\u001b[39m(\u001b[38;5;28mnext\u001b[39m(it))\n\u001b[0;32m      7\u001b[0m \u001b[38;5;28mprint\u001b[39m(\u001b[38;5;28mnext\u001b[39m(it))\n\u001b[1;32m----> 8\u001b[0m \u001b[38;5;28mprint\u001b[39m(\u001b[38;5;28;43mnext\u001b[39;49m\u001b[43m(\u001b[49m\u001b[43mit\u001b[49m\u001b[43m)\u001b[49m)\n",
      "\u001b[1;31mStopIteration\u001b[0m: "
     ]
    }
   ],
   "source": [
    "a = [1, 2, 3]\n",
    "\n",
    "it = iter(a) #이터레이터\n",
    "\n",
    "print(next(it))\n",
    "print(next(it))\n",
    "print(next(it))\n",
    "print(next(it))"
   ]
  },
  {
   "cell_type": "code",
   "execution_count": 40,
   "id": "f750aef0-e613-4516-9d2f-da8f383c12ae",
   "metadata": {},
   "outputs": [
    {
     "name": "stdout",
     "output_type": "stream",
     "text": [
      "1\n",
      "2\n",
      "3\n",
      "1\n",
      "2\n",
      "3\n"
     ]
    }
   ],
   "source": [
    "a = [1, 2, 3]\n",
    "\n",
    "it = iter(a)\n",
    "for i in a:\n",
    "    print(i)\n",
    "\n",
    "for i in it:\n",
    "    print(i)\n",
    "\n",
    "for i in it:\n",
    "    print(i)\n",
    "# 1\n",
    "# 2\n",
    "# 3\n",
    "# 1\n",
    "# 2\n",
    "# 3"
   ]
  },
  {
   "cell_type": "code",
   "execution_count": 1,
   "id": "bee5477c-db6b-4bd5-92e6-25c08f1682ff",
   "metadata": {},
   "outputs": [
    {
     "name": "stdout",
     "output_type": "stream",
     "text": [
      "0\n",
      "1\n",
      "2\n"
     ]
    }
   ],
   "source": [
    "class MyIterator:\n",
    "    def __init__(self, stop):\n",
    "        self.current = 0    # 현재 숫자 유지\n",
    "        self.stop = stop    # stop까지 반복\n",
    "    \n",
    "    def __iter__(self):     # 해당 클래스로 생성한 객체는 반복 가능한 객체가 된다.\n",
    "        return self\n",
    "    \n",
    "    def __next__(self):     # 함수를 통해서 next 호출이 가능. 값을 반환하는 역할\n",
    "        if self.current < self.stop:\n",
    "            r = self.current\n",
    "            self.current += 1\n",
    "            return r\n",
    "        else :\n",
    "            raise StopIteration\n",
    "\n",
    "for i in MyIterator(3):\n",
    "    print(i)\n",
    "\n",
    "# 0\n",
    "# 1\n",
    "# 2"
   ]
  },
  {
   "cell_type": "code",
   "execution_count": 12,
   "id": "e83c49ad-86d9-4cc6-8ceb-d676ebbf2578",
   "metadata": {},
   "outputs": [
    {
     "name": "stdout",
     "output_type": "stream",
     "text": [
      "a\n",
      "b\n",
      "c\n"
     ]
    }
   ],
   "source": [
    "def mygen():\n",
    "    yield 'a'\n",
    "    yield 'b'\n",
    "    yield 'c'\n",
    "    \n",
    "type(mygen) # function\n",
    "\n",
    "g = mygen()\n",
    "type(g) # generator\n",
    "\n",
    "print(next(g)) # a\n",
    "print(next(g)) # b\n",
    "print(next(g)) # c\n",
    "\n"
   ]
  },
  {
   "cell_type": "code",
   "execution_count": 14,
   "id": "ff3cd39c-4cb1-43a2-a038-7884a6a61b35",
   "metadata": {},
   "outputs": [
    {
     "name": "stdout",
     "output_type": "stream",
     "text": [
      "1\n",
      "4\n",
      "9\n",
      "16\n",
      "25\n",
      "36\n",
      "49\n",
      "64\n",
      "81\n"
     ]
    }
   ],
   "source": [
    "def mygen():\n",
    "    for i in range(1, 10):\n",
    "        result = i * i\n",
    "        yield result\n",
    "\n",
    "gen = mygen()\n",
    "\n",
    "for i in gen:\n",
    "    print(i)\n",
    "\n"
   ]
  },
  {
   "cell_type": "code",
   "execution_count": 15,
   "id": "f087b22e-3b2d-4a99-93ae-e7dd5aacfa7c",
   "metadata": {},
   "outputs": [
    {
     "name": "stdout",
     "output_type": "stream",
     "text": [
      "1\n",
      "4\n",
      "9\n",
      "16\n",
      "25\n",
      "36\n",
      "49\n",
      "64\n",
      "81\n"
     ]
    }
   ],
   "source": [
    "gen = (i * i for i in range(1, 10))\n",
    "\n",
    "for i in gen:\n",
    "    print(i)"
   ]
  },
  {
   "cell_type": "code",
   "execution_count": 19,
   "id": "fa8fcef4-c2d0-4b1b-9764-64c05c78dc1f",
   "metadata": {},
   "outputs": [
    {
     "name": "stdout",
     "output_type": "stream",
     "text": [
      "job start\n",
      "job start\n",
      "job start\n",
      "job start\n",
      "job start\n",
      "['done', 'done', 'done', 'done', 'done']\n",
      "['done', 'done', 'done', 'done', 'done']\n"
     ]
    }
   ],
   "source": [
    "import time\n",
    "\n",
    "def longtime_job():\n",
    "    print(\"job start\")\n",
    "    time.sleep(1)\n",
    "    return \"done\"\n",
    "\n",
    "list_job = [longtime_job() for i in range(5)]\n",
    "print(list_job)\n",
    "print(list_job)"
   ]
  },
  {
   "cell_type": "code",
   "execution_count": 20,
   "id": "a98496ce-c467-4901-9608-7a3a05bb66e6",
   "metadata": {},
   "outputs": [
    {
     "data": {
      "text/plain": [
       "int"
      ]
     },
     "execution_count": 20,
     "metadata": {},
     "output_type": "execute_result"
    }
   ],
   "source": [
    "# 타입 어노테이션\n",
    "a = 1\n",
    "type(a)"
   ]
  },
  {
   "cell_type": "code",
   "execution_count": 21,
   "id": "b5cfac0b-9e45-4789-8afa-4cb669006019",
   "metadata": {},
   "outputs": [
    {
     "data": {
      "text/plain": [
       "str"
      ]
     },
     "execution_count": 21,
     "metadata": {},
     "output_type": "execute_result"
    }
   ],
   "source": [
    "a = \"1\"\n",
    "type(a)"
   ]
  },
  {
   "cell_type": "code",
   "execution_count": 22,
   "id": "a3d0afc7-590c-4f6f-b014-d9ee00103b5c",
   "metadata": {},
   "outputs": [
    {
     "data": {
      "text/plain": [
       "int"
      ]
     },
     "execution_count": 22,
     "metadata": {},
     "output_type": "execute_result"
    }
   ],
   "source": [
    "num: int = 1\n",
    "type(num)"
   ]
  },
  {
   "cell_type": "code",
   "execution_count": 23,
   "id": "ef46f24c-6517-40fa-a591-68bf0069c065",
   "metadata": {},
   "outputs": [
    {
     "data": {
      "text/plain": [
       "str"
      ]
     },
     "execution_count": 23,
     "metadata": {},
     "output_type": "execute_result"
    }
   ],
   "source": [
    "num: int = \"asfef\"\n",
    "type(num)"
   ]
  },
  {
   "cell_type": "code",
   "execution_count": 29,
   "id": "ce5448a6-66a4-46ea-adab-79cffb24cbb3",
   "metadata": {},
   "outputs": [
    {
     "name": "stdout",
     "output_type": "stream",
     "text": [
      "3\n",
      "12\n",
      "3 3\n"
     ]
    }
   ],
   "source": [
    "def add(a: int, b: int) -> int:\n",
    "    return a + b\n",
    "\n",
    "print(add(1, 2))     # 숫자 덧셈\n",
    "print(add('1', '2')) # 문자열 덧셈\n",
    "print(add(1, 2), add(1, 2))\n",
    "\n",
    "# 3\n",
    "# 12"
   ]
  },
  {
   "cell_type": "code",
   "execution_count": null,
   "id": "106b9a25-e5dd-4629-8384-9e0978f61c88",
   "metadata": {},
   "outputs": [],
   "source": [
    "#코루틴\n",
    "import asyncio\n",
    "\n",
    "async def hello():\n",
    "    await asyncio.sleep(1)\n",
    "    print(\"hello\")\n",
    "\n",
    "def hello2():\n",
    "    await hello\n",
    "\n",
    "\n",
    "loop = asyncio.get_event_loop()\n",
    "loop.run_until_complete(hello())\n",
    "loop.close()\n",
    "\n",
    "\n"
   ]
  }
 ],
 "metadata": {
  "kernelspec": {
   "display_name": "Python 3 (ipykernel)",
   "language": "python",
   "name": "python3"
  },
  "language_info": {
   "codemirror_mode": {
    "name": "ipython",
    "version": 3
   },
   "file_extension": ".py",
   "mimetype": "text/x-python",
   "name": "python",
   "nbconvert_exporter": "python",
   "pygments_lexer": "ipython3",
   "version": "3.12.4"
  }
 },
 "nbformat": 4,
 "nbformat_minor": 5
}
